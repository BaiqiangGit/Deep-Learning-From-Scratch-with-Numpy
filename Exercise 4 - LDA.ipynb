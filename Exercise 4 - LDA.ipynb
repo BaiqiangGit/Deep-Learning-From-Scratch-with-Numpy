{
 "cells": [
  {
   "cell_type": "markdown",
   "metadata": {},
   "source": [
    "### 1. Within/Between Class Scatter Matrix\n",
    "\n",
    "https://www.python-course.eu/linear_discriminant_analysis.php\n",
    "\n",
    "Given mxn dimensional input X, and expecting 1xn dimensional output y, the Fishers Linear Discriminant Analysis (LDA) searches for the linear projection with weighting vector w (mx1 dimensional, column vector) of X noted as y(X) = wT * X, where the **separability of the classes represented by between class scatter to within class scatter** (SB/SW) is maximized.\n",
    "\n",
    "***********\n",
    "We calculate the scatter per class and then sum up all the per_class scatter matrices to receive a measure for the scatter within (**SW**):\n",
    "$\\begin{align}\n",
    "(1) SW =  \\sum_{c \\in C}\\sum_{j \\in N_{c}} (x_j - u_c)(x_j - u_c)^T\\\\\n",
    "\\end{align}$\n",
    "\n",
    "We calculate the scatter within class and then sum up all the per_class scatter matrices to receive a measure for the scatter between (**SB**). The process is equilevant to calculate the scatter of the class means with reference to the global mean, and further weighted-sum the scatters by number of samples. We can see that u be changed to other statistical meanings, e.g median. This only changes the SB:\n",
    "\n",
    "$\\begin{align}\n",
    "(2) SB =  \\sum_{c \\in C} N_c (u_c - u)(u_c - u)^T\\\\\n",
    "\\end{align}$\n",
    "\n",
    "Note that, if we take the scatter matrix of X as ST, then ST = SW + SB:\n",
    "$\\begin{align}\n",
    "(3) ST &=  \\sum_{x \\in X} (x - u)(x - u)^T  \\\\\n",
    "&=  \\sum_{c \\in C}\\sum_{ j \\in N_c} [(x_j - u_c) + (u_c - u)][(x_j - u_c) + (u_c - u)]^T \\\\\n",
    "&=  \\sum_{c \\in C}\\sum_{ j \\in N_c} (x_j - u_c)(x_j - u_c)^T + \\sum_{c \\in C}\\sum_{ j \\in N_c} (u_c - u)(u_c - u)^T + \\sum_{c \\in C}\\sum_{ j \\in N_c} (x_j - u_c)(u_c - u)^T + \\sum_{c \\in C}\\sum_{ j \\in N_c} (u_c - u)(x_j - u_c)^T \\\\\n",
    "&=  \\sum_{c \\in C}\\sum_{ j \\in N_c} (x_j - u_c)(x_j - u_c)^T +  \\sum_{c \\in C} N_c(u_c - u)(u_c - u)^T +\\sum_{c \\in C}(\\sum_{ j \\in N_c} x_j - N_c * u_c)(u_c - u)^T + \\sum_{c \\in C}(u_c - u) (\\sum_{ j \\in N_c}x_j - N_c * u_c)^T \\\\\n",
    "&=  \\sum_{c \\in C}\\sum_{ j \\in N_c} (x_j - u_c)(x_j - u_c)^T +  \\sum_{c \\in C} N_c(u_c - u)(u_c - u)^T + \\sum_{c}(0)(u_x - u)^T + \\sum_{c}(u_x - u)(0) \\\\ \n",
    "&=  \\sum_{c \\in C}\\sum_{ j \\in N_c} (x_j - u_c)(x_j - u_c)^T +  \\sum_{c \\in C} N_c(u_c - u)(u_c - u)^T + 0 + 0 \\\\\n",
    "&=  SW + SB +0 +0 \\\\\n",
    "&=  SW + SB\n",
    "\\end{align}$\n",
    "\n",
    "(Very interesting indeed, SB and SW are all scatter matrix, covariance matrix and PSD matirx. SB has a higher level meaning concerning each sample and global mean, and SW has a lower level meaning concerning each sample and its class mean. The distribution of Uc has about 1/Nc the standard deviation of the distribution of X.)\n",
    "\n",
    "***********\n",
    "\n",
    "So the trade off between SW and SB, is essentially trading off two components in ST. ST is similar to variance or energy. So this trade-off is to maximize the 'good' variance (center separatability), and minimize the 'bad' variance (intra-class variance). "
   ]
  },
  {
   "cell_type": "markdown",
   "metadata": {},
   "source": [
    "### 2. Why using SW/SB\n",
    "**********************\n",
    "Consider the classification as **least square regresssion problem**, the regression loss can be modeled as:\n",
    "\n",
    "$\\begin{align}\n",
    "Loss_w &= \\sum_{c\\in C} SE_c\\\\\n",
    "    & =  \\sum_{c\\in C} \\sum_{j\\in N_c} [y({x_j}) - y({u_c})]^2 \\\\\n",
    "    & =  \\sum_{c\\in C} \\sum_{j\\in N_c} (w^T * x_j - w^T * u_c)(w^T * x_j - w^T * u_c)^T\\\\\n",
    "    & =  \\sum_{c\\in C} \\sum_{j\\in N_c}  w^T*(x_j - u_c)(x_j - u_c)^T * w\\\\\n",
    "    & =  \\sum_{c\\in C}w^T * [\\sum_{j\\in N_c} (x_j - u_c)(x_j - u_c)^T] * w\\\\\n",
    "    & =  w^T * \\sum_{c\\in C}Cov(X_c) * w\\\\\n",
    "    & =  w^T * SW * w    \n",
    "\\end{align}$\n",
    "\n",
    "This loss represents how much the predictions deviate from the labels, across all samples. The smaller the Loss_w, the better the fitting, in general.\n",
    "\n",
    "**********************\n",
    "\n",
    "The scatter between classes a, b can be expressed as square error between two class means:\n",
    "\n",
    "$\\begin{align}\n",
    "SE_{a,b \\in C} & =  N_{a} * N_{b} * [(y(u_{a}) - y(u_{b})]^2 \\\\\n",
    "& =    N_a * N_b * (w^T * u_a - w^T * u_b)(w^T * u_ia - w^T * u_b)^T\\\\\n",
    "& =    N_a * N_b * w^T*[(u_a - u_b)(u_a - u_b)^T] * w\\\\\n",
    "\\end{align}$\n",
    "\n",
    "When summing up all pairs, the overal becomes:\n",
    "\n",
    "$\\begin{align}\n",
    "Loss_b &= \\sum SE_{a,b}^{a \\neq b}\\\\\n",
    "       &= w^T*\\sum_{}^{a \\neq b} N_a * N_b * [(u_a - u_b)(u_a - u_b)^T] * w\\\\\n",
    "       &= w^T*\\sum_{a,b}^{a \\neq b}  N_a *N_b * [(u_a - u_b)(u_a - u + u - u_b)^T] * w \\\\\n",
    "       &= w^T*\\sum_{a,b}^{a \\neq b}  N_a *N_b * [(u_a - u_b)(u_a - u)^T * w  + w^T*\\sum_{a,b}^{a \\neq b}  N_a *N_b * [(u_a - u_b)(u - u_b)^T] * w \\\\\n",
    "       &= w^T*\\sum_{a,b}^{a \\neq b}  N_a *N_b * [(u_a - u_b)(u_a - u)^T * w  + w^T*\\sum_{b,a}^{b \\neq a}  N_b *N_a * [(u_b - u_a)(u_b - u)^T] * w \\\\\n",
    "       &= 2 * w^T*\\sum_{a,b}^{a \\neq b}  N_a *N_b * [(u_a - u_b)(u_a - u)^T * w \\\\\n",
    "       &= 2 * w^T*\\sum_{a}N_a*\\sum_{b \\neq a} N_b * [(u_a - u_b)(u_a - u)^T * w \\\\\n",
    "       &= 2 * w^T*\\sum_{a}N_a*[\\sum_{b \\neq a} N_b * u_a - \\sum_{b \\neq a} N_b * u_b)]*(u_a - u)^T * w\\\\\n",
    "       &= 2 * w^T*\\sum_{a}N_a*[(N - N_a) * u_a - (N*u - N_a*u_a)]*(u_a - u)^T * w\\\\\n",
    "       &= 2 * w^T*\\sum_{a}N_a*[(N * u_a - N*u]*(u_a - u)^T * w\\\\\n",
    "       &= 2 * w^T*\\sum_{a}N * N_a*[(u_a - u]*(u_a - u)^T * w \\\\\n",
    "       &= 2 * N * w^T*\\sum_{c}N_c*[(u_c - u]*(u_c - u)^T * w \\\\\n",
    "       &= 2 * N * w^T* SB * w \\\\       \n",
    "\\end{align}$\n",
    " \n",
    "\n",
    "Clearly, SB determines the loss which govens the separatability of the classes."
   ]
  },
  {
   "cell_type": "code",
   "execution_count": null,
   "metadata": {},
   "outputs": [],
   "source": []
  },
  {
   "cell_type": "code",
   "execution_count": 1,
   "metadata": {},
   "outputs": [
    {
     "data": {
      "image/png": "[encoded data removed]",
      "text/plain": [
       "<Figure size 576x288 with 1 Axes>"
      ]
     },
     "metadata": {},
     "output_type": "display_data"
    }
   ],
   "source": [
    "%matplotlib inline\n",
    "import numpy as np\n",
    "import matplotlib.pyplot as plt\n",
    "from matplotlib import style\n",
    "style.use('fivethirtyeight')\n",
    "np.random.seed(seed=42)\n",
    "\n",
    "\n",
    "# Create data\n",
    "rectangles = np.array([[1,1.5,1.7,1.45,1.1,1.6,1.8],[1.8,1.55,1.45,1.6,1.65,1.7,1.75]])\n",
    "triangles  = np.array([[0.1,0.5,0.25,0.4,0.3,0.6,0.35,0.15,0.4,0.5,0.48],[1.1,1.5,1.3,1.2,1.15,1.0,1.4,1.2,1.3,1.5,1.0]])\n",
    "circles    = np.array([[1.5,1.55,1.52,1.4,1.3,1.6,1.35,1.45,1.4,1.5,1.48,1.51,1.52,1.49,1.41,1.39,1.6,1.35,1.55,1.47,1.57,1.48,\n",
    "                    1.55,1.555,1.525,1.45,1.35,1.65,1.355,1.455,1.45,1.55,1.485,1.515,1.525,1.495,1.415,1.395,1.65,1.355,1.555,1.475,1.575,1.485]\n",
    "                    ,[1.3,1.35,1.33,1.32,1.315,1.30,1.34,1.32,1.33,1.35,1.30,1.31,1.35,1.33,1.32,1.315,1.38,1.34,1.28,1.23,1.25,1.29,\n",
    "                     1.35,1.355,1.335,1.325,1.3155,1.305,1.345,1.325,1.335,1.355,1.305,1.315,1.355,1.335,1.325,1.3155,1.385,1.345,1.285,1.235,1.255,1.295]])\n",
    "\n",
    "#Plot the data\n",
    "fig = plt.figure(figsize=(8,4))\n",
    "ax0 = fig.add_subplot(111)\n",
    "ax0.scatter(rectangles[0],rectangles[1],marker='s',c='grey',edgecolor='black')\n",
    "ax0.scatter(triangles[0],triangles[1],marker='^',c='yellow',edgecolor='black')\n",
    "ax0.scatter(circles[0],circles[1],marker='o',c='blue',edgecolor='black')\n",
    "plt.show()\n",
    "\n",
    "# Calculate the mean vectors per class\n",
    "mean_rectangles = np.mean(rectangles,axis=1).reshape(2,1) # Creates a 2x1 vector consisting of the means of the dimensions \n",
    "mean_triangles  = np.mean(triangles,axis=1).reshape(2,1)\n",
    "mean_circles    = np.mean(circles,axis=1).reshape(2,1)"
   ]
  },
  {
   "cell_type": "code",
   "execution_count": 2,
   "metadata": {},
   "outputs": [
    {
     "name": "stdout",
     "output_type": "stream",
     "text": [
      "@Scatter Matrix Within Class:\n",
      " [[ 1.07646534 -0.05208045]\n",
      " [-0.05208045  0.45007299]]\n"
     ]
    }
   ],
   "source": [
    "# Calculate the scatter matrices for the SW (Scatter within) and sum the elements up\n",
    "scatter_rectangles = np.dot((rectangles-mean_rectangles),(rectangles-mean_rectangles).T)\n",
    "scatter_triangles = np.dot((triangles-mean_triangles),(triangles-mean_triangles).T)\n",
    "scatter_circles = np.dot((circles-mean_circles),(circles-mean_circles).T)\n",
    "\n",
    "# Calculate the SW by adding the scatters within classes \n",
    "SW = scatter_triangles + scatter_circles + scatter_rectangles\n",
    "\n",
    "print('@Scatter Matrix Within Class:\\n', SW)"
   ]
  },
  {
   "cell_type": "code",
   "execution_count": 3,
   "metadata": {},
   "outputs": [
    {
     "data": {
      "image/png": "[encoded data removed]",
      "text/plain": [
       "<Figure size 576x288 with 1 Axes>"
      ]
     },
     "metadata": {
      "needs_background": "light"
     },
     "output_type": "display_data"
    }
   ],
   "source": [
    "x_j = np.array([3.5,4.5])\n",
    "mu  = np.array([7,5])\n",
    "mu_k = np.array([4,3])\n",
    "\n",
    "fig = plt.figure(figsize=(8,4))\n",
    "ax0 = fig.add_subplot(111)\n",
    "ax0.set_xlim(-1,10)\n",
    "ax0.set_ylim(-1,10)\n",
    "\n",
    "for i in [x_j,mu,mu_k]:\n",
    "    ax0.scatter(i[0],i[1],s=50)\n",
    "ax0.annotate('x_j',x_j)\n",
    "ax0.annotate('mu',mu)\n",
    "ax0.annotate('mu_k',mu_k)\n",
    "ax0.annotate('(x_j - mu) = (mu_k - mu) + (x_j - mu_k)',np.array(mu)+np.array([1,1]))\n",
    "\n",
    "# Draw the position vectors \n",
    "for i in [x_j,mu,mu_k]:\n",
    "    ax0.arrow(0,0,i[0],i[1],head_width=0.01,width=0.05)\n",
    "    \n",
    "# Draw the vectors\n",
    "ax0.arrow(mu[0],mu[1],(x_j-mu)[0],(x_j-mu)[1],head_width=0.05,width=0.1,color='yellow') # xj_minus_mu\n",
    "ax0.arrow(mu[0],mu[1],(mu_k-mu)[0],(mu_k-mu)[1],head_width=0.05,width=0.01,alpha=0.5,color='black') # mu_k_minus_mu\n",
    "ax0.arrow(mu_k[0],mu_k[1],(x_j-mu_k)[0],(x_j-mu_k)[1],head_width=0.05,width=0.01,alpha=0.5,color='black') # xj_minus_mu_k\n",
    "\n",
    "# If we now add up the vectors (mu_k-mu) and (x_j-mu_k) wee see that this vector alligns with the vector (x_k-mu)\n",
    "mu_k_minus_mu = mu_k-mu\n",
    "x_j_minus_mu_k = x_j-mu_k\n",
    "res = (mu_k-mu)+(x_j-mu_k)\n",
    "ax0.arrow(mu[0],mu[1],res[0],res[1],head_width=0.05,width=0.01,linestyle='-.',color='red')\n",
    "plt.show()"
   ]
  },
  {
   "cell_type": "code",
   "execution_count": null,
   "metadata": {},
   "outputs": [],
   "source": []
  }
 ],
 "metadata": {
  "kernelspec": {
   "display_name": "Python 3",
   "language": "python",
   "name": "python3"
  },
  "language_info": {
   "codemirror_mode": {
    "name": "ipython",
    "version": 3
   },
   "file_extension": ".py",
   "mimetype": "text/x-python",
   "name": "python",
   "nbconvert_exporter": "python",
   "pygments_lexer": "ipython3",
   "version": "3.7.3"
  }
 },
 "nbformat": 4,
 "nbformat_minor": 2
}
