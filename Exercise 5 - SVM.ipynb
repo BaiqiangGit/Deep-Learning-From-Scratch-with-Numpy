{
 "cells": [
  {
   "cell_type": "markdown",
   "metadata": {},
   "source": [
    "### 1. references\n",
    "https://medium.com/@saishruthi.tn/support-vector-machine-using-numpy-846f83f4183d\n",
    "\n",
    "http://ecomunsing.com/build-your-own-support-vector-machine\n",
    "\n",
    "https://medium.com/deep-math-machine-learning-ai/chapter-3-1-svm-from-scratch-in-python-86f93f853dc"
   ]
  },
  {
   "cell_type": "markdown",
   "metadata": {},
   "source": [
    "### 2. make dataset"
   ]
  },
  {
   "cell_type": "code",
   "execution_count": 55,
   "metadata": {},
   "outputs": [],
   "source": [
    "%matplotlib inline \n",
    "import numpy as np\n",
    "import matplotlib.pyplot as plt\n",
    "### create multi-dimentional dataset\n",
    "def makeDataset(dims, scales, offsets, dst = 'normal'):\n",
    "    ## make random data\n",
    "    if dst == 'normal':\n",
    "        dataset = np.random.randn(*dims) ## use * to unpack array/tuple\n",
    "    elif dst == 'uniform':\n",
    "        dataset = np.random.rand(*dims)\n",
    "    else:\n",
    "        raise ValueError('check the distribution')\n",
    "    ## scale and translate\n",
    "    dataset *= np.array(scales)\n",
    "    dataset += np.array(offsets)\n",
    "    return dataset"
   ]
  },
  {
   "cell_type": "code",
   "execution_count": 64,
   "metadata": {},
   "outputs": [
    {
     "data": {
      "image/png": "[encoded data removed]",
      "text/plain": [
       "<Figure size 432x288 with 1 Axes>"
      ]
     },
     "metadata": {
      "needs_background": "light"
     },
     "output_type": "display_data"
    }
   ],
   "source": [
    "## make dataset\n",
    "dims = [50, 2, 2]\n",
    "scales = [5, 5]\n",
    "offsets= [-5, 5]\n",
    "dataset = makeDataset(dims, scales, offsets)\n",
    "plt.figure(figsize = (6,4))\n",
    "plt.scatter(dataset[:,0,0],dataset[:,1,0])\n",
    "plt.scatter(dataset[:,0,1],dataset[:,1,1])\n",
    "plt.show()\n",
    "\n",
    "## dataset to diction\n",
    "dct = {-1:dataset[:,:,0].squeeze(), 1:dataset[:,:,1].squeeze()}"
   ]
  },
  {
   "cell_type": "code",
   "execution_count": 73,
   "metadata": {},
   "outputs": [],
   "source": [
    "## initialize weights/bias\n",
    "weights = []\n",
    "bias = []\n",
    "max_feature_value = np.amax(dataset)\n",
    "min_feature_value = np.amin(dataset)\n",
    "learning_rate = max_feature_value * np.array([0.1, 0.01, 0.001])"
   ]
  },
  {
   "cell_type": "code",
   "execution_count": 74,
   "metadata": {},
   "outputs": [
    {
     "data": {
      "text/plain": [
       "array([1.65067702, 0.1650677 , 0.01650677])"
      ]
     },
     "execution_count": 74,
     "metadata": {},
     "output_type": "execute_result"
    }
   ],
   "source": [
    "learning_rate"
   ]
  },
  {
   "cell_type": "code",
   "execution_count": null,
   "metadata": {},
   "outputs": [],
   "source": []
  }
 ],
 "metadata": {
  "kernelspec": {
   "display_name": "Python [conda env:py37-numpy-deep-learning] *",
   "language": "python",
   "name": "conda-env-py37-numpy-deep-learning-py"
  },
  "language_info": {
   "codemirror_mode": {
    "name": "ipython",
    "version": 3
   },
   "file_extension": ".py",
   "mimetype": "text/x-python",
   "name": "python",
   "nbconvert_exporter": "python",
   "pygments_lexer": "ipython3",
   "version": "3.7.3"
  }
 },
 "nbformat": 4,
 "nbformat_minor": 2
}
