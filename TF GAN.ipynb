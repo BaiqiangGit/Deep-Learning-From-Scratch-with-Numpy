{
 "cells": [
  {
   "cell_type": "markdown",
   "metadata": {},
   "source": [
    "### 1. Load Libs"
   ]
  },
  {
   "cell_type": "code",
   "execution_count": 1,
   "metadata": {},
   "outputs": [],
   "source": [
    "import math\n",
    "import numpy as np\n",
    "import tensorflow as tf\n",
    "import seaborn as sb\n",
    "import matplotlib.pyplot as plt\n",
    "sb.set()"
   ]
  },
  {
   "cell_type": "markdown",
   "metadata": {},
   "source": [
    "### 2. Generate Dataset"
   ]
  },
  {
   "cell_type": "code",
   "execution_count": 2,
   "metadata": {},
   "outputs": [],
   "source": [
    "## quadratic function: y = 10 + x**2\n",
    "def get_y(x):\n",
    "    return np.power(x, 2) + 10 \n",
    "## sample x\n",
    "def sample_data(n=10000, scale=100):\n",
    "    data = []\n",
    "    x = scale*(np.random.random_sample((n,))-0.5)\n",
    "    for i in range(n):\n",
    "        yi = get_y(x[i])\n",
    "        data.append([x[i], yi])\n",
    "    return np.array(data)"
   ]
  },
  {
   "cell_type": "markdown",
   "metadata": {},
   "source": [
    "### 3. Config networks"
   ]
  },
  {
   "cell_type": "code",
   "execution_count": 3,
   "metadata": {},
   "outputs": [],
   "source": [
    "## generator input\n",
    "def sample_Z(m, n):\n",
    "    return np.random.uniform(-1., 1., size=[m, n])\n",
    "\n",
    "## generator network\n",
    "def generator(Z, hsize=[16, 16], reuse=False):\n",
    "    with tf.variable_scope(\"GAN/Generator\",reuse=reuse):\n",
    "        for hiddle_size in hsize:\n",
    "            Z = tf.layers.dense(Z, hiddle_size, activation = tf.nn.leaky_relu)\n",
    "        out = tf.layers.dense(Z, 2) ## logits layer, before softmax\n",
    "    return out\n",
    "\n",
    "## discriminator network\n",
    "def discriminator(X, hsize=[16, 16], reuse=False):\n",
    "    with tf.variable_scope(\"GAN/Discriminator\",reuse=reuse):\n",
    "        for hiddle_size in hsize:\n",
    "            X = tf.layers.dense(X, hiddle_size, activation = tf.nn.leaky_relu)\n",
    "        X = tf.layers.dense(X,2)\n",
    "        out = tf.layers.dense(X,1) ## logits layer, before softmax\n",
    "    return out, X"
   ]
  },
  {
   "cell_type": "markdown",
   "metadata": {},
   "source": [
    "### 4.  Optimization Pipeline "
   ]
  },
  {
   "cell_type": "code",
   "execution_count": 4,
   "metadata": {},
   "outputs": [
    {
     "name": "stdout",
     "output_type": "stream",
     "text": [
      "WARNING:tensorflow:From <ipython-input-3-b16cade3d849>:9: dense (from tensorflow.python.layers.core) is deprecated and will be removed in a future version.\n",
      "Instructions for updating:\n",
      "Use keras.layers.dense instead.\n",
      "WARNING:tensorflow:From /home/bq/anaconda3/envs/py37-keras-tf/lib/python3.7/site-packages/tensorflow/python/framework/op_def_library.py:263: colocate_with (from tensorflow.python.framework.ops) is deprecated and will be removed in a future version.\n",
      "Instructions for updating:\n",
      "Colocations handled automatically by placer.\n"
     ]
    }
   ],
   "source": [
    "## Input placeholder\n",
    "X = tf.placeholder(tf.float32, [None,2])\n",
    "Z = tf.placeholder(tf.float32, [None,2])\n",
    "\n",
    "## Forward Pass\n",
    "G_sample = generator(Z, hsize=[16,16])\n",
    "r_logits, r_rep = discriminator(X, hsize=[16,16])\n",
    "f_logits, g_rep = discriminator(G_sample, hsize=[16,16],reuse=True)\n",
    "\n",
    "## Compute Loss\n",
    "dis_loss = tf.reduce_mean(tf.nn.sigmoid_cross_entropy_with_logits(logits=r_logits, labels=tf.ones_like(r_logits)) + \\\n",
    "                          tf.nn.sigmoid_cross_entropy_with_logits(logits=f_logits, labels=tf.zeros_like(f_logits)))\n",
    "\n",
    "gen_loss = tf.reduce_mean(tf.nn.sigmoid_cross_entropy_with_logits(logits=f_logits, labels=tf.ones_like(f_logits)))\n",
    "\n",
    "## Trainables\n",
    "gen_vars = tf.get_collection(tf.GraphKeys.GLOBAL_VARIABLES, scope=\"GAN/Generator\")\n",
    "dis_vars = tf.get_collection(tf.GraphKeys.GLOBAL_VARIABLES, scope=\"GAN/Discriminator\")\n",
    "\n",
    "## Optimizer\n",
    "lr = 1e-3\n",
    "gen_step = tf.train.RMSPropOptimizer(learning_rate=lr).minimize(gen_loss, var_list = gen_vars) # G Train step\n",
    "dis_step = tf.train.RMSPropOptimizer(learning_rate=lr).minimize(dis_loss, var_list = dis_vars) # D Train step"
   ]
  },
  {
   "cell_type": "code",
   "execution_count": 5,
   "metadata": {},
   "outputs": [
    {
     "name": "stdout",
     "output_type": "stream",
     "text": [
      "Iterations: 10000\t Discriminator loss: 1.2855\t Generator loss: 0.6637\r"
     ]
    }
   ],
   "source": [
    "# sess = tf.Session(config=config)\n",
    "sess = tf.Session()\n",
    "tf.global_variables_initializer().run(session=sess)\n",
    "\n",
    "batch_size = 256\n",
    "nd_steps = 10\n",
    "ng_steps = 10\n",
    "\n",
    "x_plot = sample_data(n=batch_size)\n",
    "\n",
    "f = open('loss_logs.csv','w')\n",
    "f.write('Iteration,Discriminator Loss,Generator Loss\\n')\n",
    "\n",
    "for i in range(10001):\n",
    "    X_batch = sample_data(n = batch_size)\n",
    "    Z_batch = sample_Z(batch_size, 2)\n",
    "\n",
    "    ## run discriminator\n",
    "    for _ in range(nd_steps):\n",
    "        _, dloss = sess.run([dis_step, dis_loss], feed_dict={X: X_batch, Z: Z_batch})\n",
    "        \n",
    "    ## get representations\n",
    "    rrep_dstep, grep_dstep = sess.run([r_rep, g_rep], feed_dict={X: X_batch, Z: Z_batch})\n",
    "\n",
    "    ## run generator\n",
    "    for _ in range(ng_steps):\n",
    "        _, gloss = sess.run([gen_step, gen_loss], feed_dict={Z: Z_batch})\n",
    "\n",
    "    ## get representations\n",
    "    rrep_gstep, grep_gstep = sess.run([r_rep, g_rep], feed_dict={X: X_batch, Z: Z_batch})\n",
    "\n",
    "    print (\"Iterations: %d\\t Discriminator loss: %.4f\\t Generator loss: %.4f\"%(i,dloss,gloss), end = '\\r')\n",
    "    \n",
    "    if i%10 == 0:\n",
    "        f.write(\"%d,%f,%f\\n\"%(i,dloss,gloss))\n",
    "\n",
    "    if i%1000 == 0:\n",
    "        \n",
    "        ## plot Samples\n",
    "        plt.figure()\n",
    "        g_plot = sess.run(G_sample, feed_dict={Z: Z_batch})\n",
    "        xax = plt.scatter(x_plot[:,0], x_plot[:,1])\n",
    "        gax = plt.scatter(g_plot[:,0], g_plot[:,1])\n",
    "\n",
    "        plt.legend((xax, gax), (\"Real Data\",\"Generated Data\"))\n",
    "        plt.title('Samples at Iteration %d'%i)\n",
    "        plt.tight_layout()\n",
    "        plt.savefig('../plots/iterations/iteration_%d.png'%i)\n",
    "        plt.close()\n",
    "\n",
    "        ## plot Features\n",
    "        plt.figure()\n",
    "        rrd = plt.scatter(rrep_dstep[:,0], rrep_dstep[:,1], alpha=0.5)\n",
    "        rrg = plt.scatter(rrep_gstep[:,0], rrep_gstep[:,1], alpha=0.5)\n",
    "        grd = plt.scatter(grep_dstep[:,0], grep_dstep[:,1], alpha=0.5)\n",
    "        grg = plt.scatter(grep_gstep[:,0], grep_gstep[:,1], alpha=0.5)\n",
    "        plt.legend((rrd, rrg, grd, grg), \n",
    "                   (\"Real Data Before G step\",\"Real Data After G step\",\n",
    "                    \"Generated Data Before G step\",\"Generated Data After G step\"))\n",
    "        plt.title('Transformed Features at Iteration %d'%i)\n",
    "        plt.tight_layout()\n",
    "        plt.savefig('../plots/features/feature_transform_%d.png'%i)\n",
    "        plt.close()\n",
    "\n",
    "        ## plot Generated data\n",
    "        plt.figure()\n",
    "        rrdc = plt.scatter(np.mean(rrep_dstep[:,0]), np.mean(rrep_dstep[:,1]),s=100, alpha=0.5)\n",
    "        rrgc = plt.scatter(np.mean(rrep_gstep[:,0]), np.mean(rrep_gstep[:,1]),s=100, alpha=0.5)\n",
    "        grdc = plt.scatter(np.mean(grep_dstep[:,0]), np.mean(grep_dstep[:,1]),s=100, alpha=0.5)\n",
    "        grgc = plt.scatter(np.mean(grep_gstep[:,0]), np.mean(grep_gstep[:,1]),s=100, alpha=0.5)\n",
    "\n",
    "        plt.legend((rrdc, rrgc, grdc, grgc), (\"Real Data Before G step\",\"Real Data After G step\",\n",
    "                               \"Generated Data Before G step\",\"Generated Data After G step\"))\n",
    "\n",
    "        plt.title('Centroid of Transformed Features at Iteration %d'%i)\n",
    "        plt.tight_layout()\n",
    "        plt.savefig('../plots/features/feature_transform_centroid_%d.png'%i)\n",
    "        plt.close()\n",
    "\n",
    "f.close()"
   ]
  },
  {
   "cell_type": "code",
   "execution_count": null,
   "metadata": {},
   "outputs": [],
   "source": []
  },
  {
   "cell_type": "code",
   "execution_count": null,
   "metadata": {},
   "outputs": [],
   "source": []
  }
 ],
 "metadata": {
  "kernelspec": {
   "display_name": "Python 3",
   "language": "python",
   "name": "python3"
  },
  "language_info": {
   "codemirror_mode": {
    "name": "ipython",
    "version": 3
   },
   "file_extension": ".py",
   "mimetype": "text/x-python",
   "name": "python",
   "nbconvert_exporter": "python",
   "pygments_lexer": "ipython3",
   "version": "3.7.3"
  }
 },
 "nbformat": 4,
 "nbformat_minor": 2
}
