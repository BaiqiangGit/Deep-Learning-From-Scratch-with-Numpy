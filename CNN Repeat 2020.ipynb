{
 "cells": [
  {
   "cell_type": "code",
   "execution_count": 14,
   "metadata": {
    "ExecuteTime": {
     "end_time": "2020-01-27T19:59:29.569507Z",
     "start_time": "2020-01-27T19:59:29.489251Z"
    }
   },
   "outputs": [],
   "source": [
    "# load libs\n",
    "%matplotlib inline\n",
    "import time\n",
    "import warnings\n",
    "warnings.filterwarnings('ignore')"
   ]
  },
  {
   "cell_type": "code",
   "execution_count": 15,
   "metadata": {
    "ExecuteTime": {
     "end_time": "2020-01-27T19:59:29.712093Z",
     "start_time": "2020-01-27T19:59:29.706306Z"
    }
   },
   "outputs": [],
   "source": [
    "import numpy as np\n",
    "import matplotlib.pyplot as plt\n",
    "from sklearn.datasets import fetch_openml\n",
    "from sklearn.metrics import classification_report, confusion_matrix, accuracy_score\n",
    "from sklearn.preprocessing import OneHotEncoder"
   ]
  },
  {
   "cell_type": "code",
   "execution_count": 16,
   "metadata": {
    "ExecuteTime": {
     "end_time": "2020-01-27T19:59:49.407948Z",
     "start_time": "2020-01-27T19:59:30.114025Z"
    }
   },
   "outputs": [
    {
     "data": {
      "text/plain": [
       "((784, 70000), (10, 70000))"
      ]
     },
     "execution_count": 16,
     "metadata": {},
     "output_type": "execute_result"
    }
   ],
   "source": [
    "# load and preprocess mnist\n",
    "mnist = fetch_openml('mnist_784', version = 'active')\n",
    "X, y = mnist.data, mnist.target\n",
    "X = X.T/ 255.0\n",
    "Y = OneHotEncoder().fit_transform(y.reshape(-1,1)).astype('int32').T.toarray()\n",
    "X.shape, Y.shape"
   ]
  },
  {
   "cell_type": "code",
   "execution_count": 17,
   "metadata": {
    "ExecuteTime": {
     "end_time": "2020-01-27T19:59:50.835762Z",
     "start_time": "2020-01-27T19:59:49.411085Z"
    }
   },
   "outputs": [
    {
     "data": {
      "image/png": "[encoded data removed]",
      "text/plain": [
       "<Figure size 432x288 with 1 Axes>"
      ]
     },
     "metadata": {
      "needs_background": "light"
     },
     "output_type": "display_data"
    }
   ],
   "source": [
    "# make train/test splits\n",
    "m = 60000\n",
    "X_train, X_test = X[:,:m], X[:,m:]\n",
    "Y_train, Y_test = Y[:,:m], Y[:,m:]\n",
    "\n",
    "# shuffle\n",
    "np.random.seed(123456)\n",
    "shuffle = np.random.permutation(m)\n",
    "X_train, Y_train = X_train[:, shuffle], Y_train[:,shuffle]\n",
    "\n",
    "# visual check\n",
    "sample = np.random.randint(m)\n",
    "image = X_train[:, sample].reshape(28, -1)\n",
    "plt.imshow(image, cmap = 'binary_r')\n",
    "plt.title(np.argmax(Y_train[:,sample]))\n",
    "plt.axis('off')\n",
    "plt.show()\n"
   ]
  },
  {
   "cell_type": "code",
   "execution_count": 18,
   "metadata": {
    "ExecuteTime": {
     "end_time": "2020-01-27T19:59:50.853263Z",
     "start_time": "2020-01-27T19:59:50.837940Z"
    }
   },
   "outputs": [
    {
     "data": {
      "text/plain": [
       "((1, 28, 28, 60000), (10, 60000))"
      ]
     },
     "execution_count": 18,
     "metadata": {},
     "output_type": "execute_result"
    }
   ],
   "source": [
    "# define network\n",
    "\n",
    "# input layer\n",
    "input_depth = 1\n",
    "input_height = 28\n",
    "input_width = 28\n",
    "\n",
    "## conv layer\n",
    "conv_depth = 12\n",
    "conv_height = 3\n",
    "conv_width = 3\n",
    "conv_output_height = input_height - conv_height + 1\n",
    "conv_output_width  = input_width - conv_width + 1\n",
    "W1 = np.random.randn(conv_depth, input_depth, conv_height, conv_width)\n",
    "b1 = np.zeros((conv_depth, 1))\n",
    "\n",
    "# fc layer\n",
    "fc_dims = 4\n",
    "flatten_dims = conv_depth * conv_output_height * conv_output_width\n",
    "W2 = np.random.randn(fc_dims, flatten_dims)\n",
    "b2 = np.zeros((fc_dims, 1))\n",
    "\n",
    "# output\n",
    "output_dims = 10\n",
    "W3 = np.random.randn(output_dims, fc_dims)\n",
    "b3 = np.zeros((output_dims, 1))\n",
    "\n",
    "# prepare input\n",
    "Input = X_train.reshape((1,28,28,-1))\n",
    "Target = Y_train.copy()\n",
    "Input.shape, Target.shape"
   ]
  },
  {
   "cell_type": "code",
   "execution_count": 20,
   "metadata": {
    "ExecuteTime": {
     "end_time": "2020-01-27T21:25:51.311900Z",
     "start_time": "2020-01-27T20:01:36.706667Z"
    }
   },
   "outputs": [
    {
     "name": "stdout",
     "output_type": "stream",
     "text": [
      "0 4.30610351759765\n",
      "1 2.7963288358913654\n",
      "2 2.5538972753891303\n",
      "3 2.4395647637731748\n",
      "4 2.38419211004794\n",
      "5 2.352614044691701\n",
      "6 2.333479082724008\n",
      "7 2.3215811444258003\n",
      "8 2.3140971336129126\n",
      "9 2.309365832133506\n"
     ]
    }
   ],
   "source": [
    "# train network\n",
    "\n",
    "for epoch in range(10):\n",
    "    \n",
    "    # forward pass\n",
    "    \n",
    "    # conv layer: think of each val at output feature map, map(d, h ,w)\n",
    "    conv_output = np.zeros((conv_depth, conv_output_height, conv_output_width, Input.shape[-1]))\n",
    "    for d in range(conv_depth):\n",
    "        for h in range(conv_output_height):\n",
    "            for w in range(conv_output_width):\n",
    "                current_patch = Input[:, h:h+conv_height,w:w+conv_width]\n",
    "                current_filter = np.expand_dims(W1[d,:,:,:], axis = 3)\n",
    "                conv_output[d, h, w] = (current_patch * current_filter + b1[d]).reshape(-1, Input.shape[-1]).sum(axis = 0)\n",
    "                \n",
    "    ## flatten\n",
    "    conv_output_flatten = conv_output.reshape(-1, Input.shape[-1])\n",
    "    A1 = 1 / (1 + np.exp(-conv_output_flatten))\n",
    "    \n",
    "    # fc\n",
    "    Z2 = W2 @ A1 + b2\n",
    "    A2 = 1 / (1 + np.exp(-Z2))\n",
    "    \n",
    "    # output layer\n",
    "    Z3 = W3@A2 + b3\n",
    "    Z3 = Z3 - Z3.max(axis = 0)\n",
    "    A3 = np.exp(Z3)/np.exp(Z3).sum(axis = 0)\n",
    "    A3 = A3 + 1e-10\n",
    "    \n",
    "    # Loss \n",
    "    Loss = - np.sum(Target * np.log(A3))/60000\n",
    "    \n",
    "    ## backward pass\n",
    "    \n",
    "    # ce + softmax\n",
    "    dZ3 = A3 - Y_train\n",
    "    dW3 = dZ3 @ A2.T / 60000\n",
    "    db3 = dZ3.mean(axis = 1, keepdims = True)\n",
    "    \n",
    "    # fc layer\n",
    "    dA2 = W3.T @ dZ3\n",
    "    dZ2 = dA2 * A2 * (1 - A2)\n",
    "    dW2 = dZ2 @ A1.T / 60000\n",
    "    db2 = dZ2.mean(axis = 1, keepdims = True)\n",
    "    \n",
    "    # conv layer\n",
    "    dA1 = W2.T @ dZ2\n",
    "    d_conv_flatten = dA1 * A1 * (1 - A1)\n",
    "    d_conv_matrix = d_conv_flatten.reshape(conv_output.shape)\n",
    "    \n",
    "    dW1 = np.zeros(W1.shape)\n",
    "    for c1 in range(Input.shape[0]):\n",
    "        for c2 in range(conv_output.shape[0]):\n",
    "            for r in range(conv_height):\n",
    "                for c in range(conv_width):\n",
    "                    conv_input_patch = Input[c1, r:r+conv_output_height, c:c+conv_output_width, :]\n",
    "                    conv_output_vals = d_conv_matrix[c2]\n",
    "                    dW1[c2,c1,r,c] = np.sum(conv_input_patch * conv_output_vals)/ 60000\n",
    "                    \n",
    "    db1 = d_conv_matrix.sum(axis = 1).sum(axis=1).mean(axis = 1, keepdims = True)\n",
    "    \n",
    "    lr = 1\n",
    "    W3 -= lr * dW3\n",
    "    W2 -= lr * dW2\n",
    "    W1 -= lr * dW1\n",
    "    b3 -= lr * db3\n",
    "    b2 -= lr * db2\n",
    "    b1 -= lr * db1\n",
    "    \n",
    "    print(epoch, Loss)"
   ]
  },
  {
   "cell_type": "code",
   "execution_count": null,
   "metadata": {},
   "outputs": [],
   "source": []
  }
 ],
 "metadata": {
  "kernelspec": {
   "display_name": "Python 3",
   "language": "python",
   "name": "python3"
  },
  "language_info": {
   "codemirror_mode": {
    "name": "ipython",
    "version": 3
   },
   "file_extension": ".py",
   "mimetype": "text/x-python",
   "name": "python",
   "nbconvert_exporter": "python",
   "pygments_lexer": "ipython3",
   "version": "3.7.6"
  },
  "latex_envs": {
   "LaTeX_envs_menu_present": true,
   "autoclose": false,
   "autocomplete": true,
   "bibliofile": "biblio.bib",
   "cite_by": "apalike",
   "current_citInitial": 1,
   "eqLabelWithNumbers": true,
   "eqNumInitial": 1,
   "hotkeys": {
    "equation": "Ctrl-E",
    "itemize": "Ctrl-I"
   },
   "labels_anchors": false,
   "latex_user_defs": false,
   "report_style_numbering": false,
   "user_envs_cfg": false
  },
  "toc": {
   "base_numbering": 1,
   "nav_menu": {},
   "number_sections": true,
   "sideBar": true,
   "skip_h1_title": false,
   "title_cell": "Table of Contents",
   "title_sidebar": "Contents",
   "toc_cell": false,
   "toc_position": {},
   "toc_section_display": true,
   "toc_window_display": false
  }
 },
 "nbformat": 4,
 "nbformat_minor": 2
}
