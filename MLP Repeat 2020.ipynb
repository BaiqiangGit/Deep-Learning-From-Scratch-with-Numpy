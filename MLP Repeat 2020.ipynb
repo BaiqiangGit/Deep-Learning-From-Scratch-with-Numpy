{
 "cells": [
  {
   "cell_type": "markdown",
   "metadata": {},
   "source": [
    "### Repeat of MLP\n",
    "January 27 2020 "
   ]
  },
  {
   "cell_type": "code",
   "execution_count": 1,
   "metadata": {
    "ExecuteTime": {
     "end_time": "2020-01-27T10:28:26.085868Z",
     "start_time": "2020-01-27T10:28:25.280306Z"
    }
   },
   "outputs": [],
   "source": [
    "# load libs\n",
    "%matplotlib inline\n",
    "import warnings\n",
    "warnings.filterwarnings('ignore')\n",
    "import numpy as np\n",
    "import matplotlib.pyplot as plt\n",
    "from sklearn.datasets import fetch_openml\n",
    "from sklearn.metrics import confusion_matrix, accuracy_score, classification_report\n",
    "from sklearn.preprocessing import OneHotEncoder"
   ]
  },
  {
   "cell_type": "code",
   "execution_count": 2,
   "metadata": {
    "ExecuteTime": {
     "end_time": "2020-01-27T10:28:44.488849Z",
     "start_time": "2020-01-27T10:28:26.089430Z"
    }
   },
   "outputs": [
    {
     "name": "stdout",
     "output_type": "stream",
     "text": [
      "float64 object (70000, 784) (70000,) 255.0 0.0 9 0\n",
      "(784, 70000) (10, 70000)\n"
     ]
    }
   ],
   "source": [
    "# load mnist\n",
    "X, y = fetch_openml('mnist_784', version=1, return_X_y=True)\n",
    "print(X.dtype, y.dtype, X.shape, y.shape, X.max(), X.min(), y.max(), y.min())\n",
    "\n",
    "# preprocess\n",
    "X = X.T / 255.0\n",
    "Y = OneHotEncoder().fit_transform(y.reshape(-1, 1).astype('int32')).toarray().T # one hot labeld\n",
    "print(X.shape, Y.shape)"
   ]
  },
  {
   "cell_type": "code",
   "execution_count": 3,
   "metadata": {
    "ExecuteTime": {
     "end_time": "2020-01-27T10:28:45.812885Z",
     "start_time": "2020-01-27T10:28:44.491243Z"
    }
   },
   "outputs": [
    {
     "name": "stdout",
     "output_type": "stream",
     "text": [
      "(784, 70000) (10, 70000)\n"
     ]
    },
    {
     "data": {
      "image/png": "[encoded data removed]",
      "text/plain": [
       "<Figure size 432x288 with 1 Axes>"
      ]
     },
     "metadata": {
      "needs_background": "light"
     },
     "output_type": "display_data"
    }
   ],
   "source": [
    "# make train/test splits\n",
    "m = 60000\n",
    "X_train, X_test = X[:,:m], X[:,m:]\n",
    "Y_train, Y_test = Y[:,:m], Y[:,m:]\n",
    "print(X.shape, Y.shape)\n",
    "\n",
    "# randomly shuffle trainset\n",
    "np.random.seed(123456) # for reproducibility\n",
    "shuffle = np.random.permutation(m)\n",
    "X_train, Y_train = X_train[:,shuffle], Y_train[:,shuffle]\n",
    "\n",
    "# visual check\n",
    "sample = np.random.randint(m)\n",
    "plt.imshow(X_train[:,sample].reshape(28, -1), cmap = 'binary_r')\n",
    "plt.axis('off')\n",
    "plt.title(np.argmax(Y_train[:,sample]))\n",
    "plt.show()\n"
   ]
  },
  {
   "cell_type": "code",
   "execution_count": 4,
   "metadata": {
    "ExecuteTime": {
     "end_time": "2020-01-27T10:36:04.846491Z",
     "start_time": "2020-01-27T10:28:45.815094Z"
    }
   },
   "outputs": [
    {
     "name": "stdout",
     "output_type": "stream",
     "text": [
      "Epoch  0 : 10.29487\n",
      "Epoch 100 : 0.74835\n",
      "Epoch 200 : 0.71671\n",
      "Epoch 300 : 0.68924\n",
      "Epoch 400 : 0.66509\n",
      "Epoch 500 : 0.64361\n",
      "Epoch 600 : 0.64159\n",
      "Epoch 700 : 0.63959\n",
      "Epoch 800 : 0.63761\n",
      "Epoch 900 : 0.63566\n"
     ]
    }
   ],
   "source": [
    "# implement 3 layers mlp\n",
    "\n",
    "# define network: \n",
    "n_samples = 60000\n",
    "input_dims = 784\n",
    "hidden_dims = 128\n",
    "output_dims = 10\n",
    "epochs = 1000\n",
    "lr = [0.01, 0.1, 1]\n",
    "\n",
    "# initialize weights/bias\n",
    "W1 = np.random.randn(hidden_dims, input_dims) # 128 * 784\n",
    "W2 = np.random.randn(output_dims, hidden_dims) # 10 * 128\n",
    "b1 = np.zeros((hidden_dims, 1)) # 128 * 1\n",
    "b2 = np.zeros((output_dims, 1)) # 10 * 1\n",
    "\n",
    "# train network\n",
    "Losses = []\n",
    "for ep in range(epochs):\n",
    "    if ep == 0: lr = 1\n",
    "    elif ep == 100: lr = 0.1\n",
    "    elif ep == 500: lr = 0.01\n",
    "\n",
    "    # forward pass\n",
    "    Z1 = W1 @ X_train + b1 # (128, 784) @ (784, 60000) + (128, 1)\n",
    "    A1 = 1 / (1 + np.exp(-Z1)) # sigmoid: 128 * 60000\n",
    "    Z2 = W2 @ A1 + b2 # (10, 32) @ (128, 60000) + (10, 1)\n",
    "    A2 = np.exp(Z2) / np.exp(Z2).sum(axis = 0) # 10 * 60000, prob for each class\n",
    "\n",
    "    # calculate loss\n",
    "    Loss = -np.sum(Y_train * np.log(A2))/n_samples # scaler\n",
    "    Losses.append(Loss)\n",
    "\n",
    "    # backward pass\n",
    "    dZ2 = A2 - Y_train # 10 * 60000, dL/dZ2 = Y_hat - Y (square-error-like)\n",
    "    dW2 = dZ2 @ A1.T / n_samples # (10,60000) @ (10, 128).T / 60000\n",
    "    db2 = dZ2.sum(axis = 1, keepdims = True)/n_samples # (10, 1) <== (10, 60000).sum(axis = 1, keepdims= True)\n",
    "\n",
    "    dA1 = W2.T @ dZ2 # (10 * 784).T @ (10, 60000) ==> (784, 60000)\n",
    "    dZ1 = dA1 * A1 * (1 - A1) # d_sigmoid\n",
    "    dW1 = dZ1 @ X_train.T / n_samples\n",
    "    db1 = dZ1.sum(axis=1, keepdims = True)/n_samples\n",
    "\n",
    "    # update W/b\n",
    "    W1 -= lr * dW1\n",
    "    W2 -= lr * dW2\n",
    "    b1 -= lr * db1\n",
    "    b2 -= lr * db2\n",
    "\n",
    "    if ep % 100 == 0:\n",
    "        print('Epoch %2d : %.5f'%(ep, Loss))\n",
    "        \n"
   ]
  },
  {
   "cell_type": "code",
   "execution_count": 5,
   "metadata": {
    "ExecuteTime": {
     "end_time": "2020-01-27T10:36:05.088800Z",
     "start_time": "2020-01-27T10:36:04.850596Z"
    }
   },
   "outputs": [
    {
     "data": {
      "image/png": "[encoded data removed]",
      "text/plain": [
       "<Figure size 720x432 with 1 Axes>"
      ]
     },
     "metadata": {
      "needs_background": "light"
     },
     "output_type": "display_data"
    }
   ],
   "source": [
    "# plot losses\n",
    "plt.figure(figsize = (10, 6))\n",
    "plt.plot(range(len(Losses)), Losses, c = 'g', marker = '.')\n",
    "plt.xlabel('# of Epoch')\n",
    "plt.ylabel('CE - Loss')\n",
    "plt.show()"
   ]
  },
  {
   "cell_type": "code",
   "execution_count": 6,
   "metadata": {
    "ExecuteTime": {
     "end_time": "2020-01-27T10:36:05.217527Z",
     "start_time": "2020-01-27T10:36:05.090931Z"
    }
   },
   "outputs": [],
   "source": [
    "# test network\n",
    "Z1 = W1 @ X_test + b1\n",
    "A1 = 1/(1+np.exp(-Z1))\n",
    "Z2 = W2 @ A1 + b2\n",
    "A2 = np.exp(Z2)/np.exp(Z2).sum(axis = 0) # 10 * 60000\n",
    "\n",
    "preds = np.argmax(A2, axis = 0) # 10 * 10000\n",
    "truth = np.argmax(Y_test, axis = 0) # 10 * 10000"
   ]
  },
  {
   "cell_type": "code",
   "execution_count": 7,
   "metadata": {
    "ExecuteTime": {
     "end_time": "2020-01-27T10:36:05.225796Z",
     "start_time": "2020-01-27T10:36:05.219407Z"
    }
   },
   "outputs": [
    {
     "name": "stdout",
     "output_type": "stream",
     "text": [
      "accuracy score\n",
      "0.8283\n"
     ]
    }
   ],
   "source": [
    "# print accuracy\n",
    "print('accuracy score')\n",
    "print(accuracy_score(truth, preds))"
   ]
  },
  {
   "cell_type": "code",
   "execution_count": 8,
   "metadata": {
    "ExecuteTime": {
     "end_time": "2020-01-27T10:36:05.248193Z",
     "start_time": "2020-01-27T10:36:05.230336Z"
    }
   },
   "outputs": [
    {
     "name": "stdout",
     "output_type": "stream",
     "text": [
      "confusion matrix\n",
      "[[ 896    0    6    6    3   34   20    4    8    3]\n",
      " [   0 1079   11    8    2    6    2    1   25    1]\n",
      " [  21   14  829   33   12    7   25   27   51   13]\n",
      " [   9    1   34  823    6   50   11   21   44   11]\n",
      " [   6    5    6    3  802   14   31   15   11   89]\n",
      " [  23    7   12   83   17  635   24   19   52   20]\n",
      " [  21    5   17    4   18   22  850    4    9    8]\n",
      " [  13   16   43   17   17    6    3  851   10   52]\n",
      " [  12   10   29   41   10   74   13   19  749   17]\n",
      " [  13    9   10   12   95   21    8   55   17  769]]\n"
     ]
    }
   ],
   "source": [
    "print('confusion matrix')\n",
    "print(confusion_matrix(truth,preds))"
   ]
  },
  {
   "cell_type": "code",
   "execution_count": 9,
   "metadata": {
    "ExecuteTime": {
     "end_time": "2020-01-27T10:36:05.276430Z",
     "start_time": "2020-01-27T10:36:05.250355Z"
    }
   },
   "outputs": [
    {
     "name": "stdout",
     "output_type": "stream",
     "text": [
      "classification report\n",
      "              precision    recall  f1-score   support\n",
      "\n",
      "           0       0.88      0.91      0.90       980\n",
      "           1       0.94      0.95      0.95      1135\n",
      "           2       0.83      0.80      0.82      1032\n",
      "           3       0.80      0.81      0.81      1010\n",
      "           4       0.82      0.82      0.82       982\n",
      "           5       0.73      0.71      0.72       892\n",
      "           6       0.86      0.89      0.87       958\n",
      "           7       0.84      0.83      0.83      1028\n",
      "           8       0.77      0.77      0.77       974\n",
      "           9       0.78      0.76      0.77      1009\n",
      "\n",
      "    accuracy                           0.83     10000\n",
      "   macro avg       0.83      0.83      0.83     10000\n",
      "weighted avg       0.83      0.83      0.83     10000\n",
      "\n"
     ]
    }
   ],
   "source": [
    "print('classification report')\n",
    "print(classification_report(truth, preds))"
   ]
  },
  {
   "cell_type": "code",
   "execution_count": null,
   "metadata": {},
   "outputs": [],
   "source": []
  }
 ],
 "metadata": {
  "kernelspec": {
   "display_name": "Python 3",
   "language": "python",
   "name": "python3"
  },
  "language_info": {
   "codemirror_mode": {
    "name": "ipython",
    "version": 3
   },
   "file_extension": ".py",
   "mimetype": "text/x-python",
   "name": "python",
   "nbconvert_exporter": "python",
   "pygments_lexer": "ipython3",
   "version": "3.7.6"
  },
  "latex_envs": {
   "LaTeX_envs_menu_present": true,
   "autoclose": false,
   "autocomplete": true,
   "bibliofile": "biblio.bib",
   "cite_by": "apalike",
   "current_citInitial": 1,
   "eqLabelWithNumbers": true,
   "eqNumInitial": 1,
   "hotkeys": {
    "equation": "Ctrl-E",
    "itemize": "Ctrl-I"
   },
   "labels_anchors": false,
   "latex_user_defs": false,
   "report_style_numbering": false,
   "user_envs_cfg": false
  },
  "toc": {
   "base_numbering": 1,
   "nav_menu": {},
   "number_sections": true,
   "sideBar": true,
   "skip_h1_title": false,
   "title_cell": "Table of Contents",
   "title_sidebar": "Contents",
   "toc_cell": false,
   "toc_position": {},
   "toc_section_display": true,
   "toc_window_display": false
  }
 },
 "nbformat": 4,
 "nbformat_minor": 2
}
